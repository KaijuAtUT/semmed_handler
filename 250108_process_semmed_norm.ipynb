{
 "cells": [
  {
   "cell_type": "markdown",
   "metadata": {},
   "source": [
    "# SemMed の DB を整備するコード\n",
    "\n"
   ]
  },
  {
   "cell_type": "markdown",
   "metadata": {},
   "source": [
    "## ID テーブルと sentence テーブルの作成\n",
    "\n",
    "* SemMed を解凍したデータを分割し、テーブルを作成している"
   ]
  },
  {
   "cell_type": "code",
   "execution_count": 8,
   "metadata": {},
   "outputs": [],
   "source": [
    "import sqlite3\n",
    "import csv\n",
    "\n",
    "input_file = \"/workspace/ssd4t/yoshikawa/0_DATA/SemMed/00_data_from_semmed/semmedVER43_2024_R_SENTENCE.csv\"\n",
    "db_output_path = \"/workspace/ssd4t/yoshikawa/0_DATA/SemMed/01_semmed_db/\"\n",
    "\n",
    "# 1 つの DB に含む行数の上限\n",
    "line_max = 50000\n",
    "\n",
    "line_index = 1\n",
    "file_seqno = 1\n",
    "\n",
    "with open(input_file, \"r\", encoding=\"utf-8\", errors=\"ignore\") as in_file:\n",
    "    reader = csv.reader(in_file)\n",
    "    db_filename = f\"{db_output_path}{file_seqno:04}_semmed.db\"\n",
    "    conn = sqlite3.connect(db_filename)\n",
    "    curs = conn.cursor()\n",
    "\n",
    "    # IDテーブルとSentenceテーブルを作成\n",
    "    curs.execute(\"\"\"\n",
    "    CREATE TABLE IF NOT EXISTS id (\n",
    "        sent_id INT,\n",
    "        pmid INT\n",
    "    );\n",
    "    \"\"\")\n",
    "    curs.execute(\"\"\"\n",
    "    CREATE TABLE IF NOT EXISTS sentence (\n",
    "        sent_id INT,\n",
    "        type TEXT,\n",
    "        num INT,\n",
    "        start INT,\n",
    "        end INT,\n",
    "        sentence TEXT\n",
    "    );\n",
    "    \"\"\")\n",
    "\n",
    "    for row in reader:\n",
    "        # 必要な列を抽出\n",
    "        sent_id = row[0]\n",
    "        pmid = row[1]\n",
    "        type_ = row[2]\n",
    "        num = row[3]\n",
    "        start = row[4]\n",
    "        sentence = row[5]\n",
    "        end = row[6]\n",
    "\n",
    "        # IDテーブルに挿入\n",
    "        curs.execute(\"INSERT OR IGNORE INTO id (sent_id, pmid) VALUES (?, ?);\", (sent_id, pmid))\n",
    "\n",
    "        # Sentenceテーブルに挿入\n",
    "        curs.execute(\"INSERT INTO sentence (sent_id, type, num, start, end, sentence) VALUES (?, ?, ?, ?, ?, ?);\", (sent_id, type_, num, start, end, sentence))\n",
    "\n",
    "        line_index += 1\n",
    "\n",
    "        # 行数が上限に達した場合、新しいデータベースに切り替え\n",
    "        if line_index > line_max:\n",
    "            conn.commit()\n",
    "            conn.close()\n",
    "\n",
    "            line_index = 1\n",
    "            file_seqno += 1\n",
    "\n",
    "            # 新しいデータベースを開く\n",
    "            db_filename = f\"{db_output_path}{file_seqno:04}_semmed.db\"\n",
    "            conn = sqlite3.connect(db_filename)\n",
    "            curs = conn.cursor()\n",
    "            curs.execute(\"\"\"\n",
    "            CREATE TABLE IF NOT EXISTS id (\n",
    "                sent_id INT,\n",
    "                pmid INT\n",
    "            );\n",
    "            \"\"\")\n",
    "            curs.execute(\"\"\"\n",
    "            CREATE TABLE IF NOT EXISTS sentence (\n",
    "                sent_id INT,\n",
    "                type TEXT,\n",
    "                num INT,\n",
    "                start INT,\n",
    "                end INT,\n",
    "                sentence TEXT\n",
    "            );\n",
    "            \"\"\")\n",
    "\n",
    "    conn.commit()\n",
    "    conn.close()"
   ]
  },
  {
   "cell_type": "markdown",
   "metadata": {},
   "source": [
    "## pred_sent テーブルの作成"
   ]
  },
  {
   "cell_type": "code",
   "execution_count": 4,
   "metadata": {},
   "outputs": [
    {
     "name": "stderr",
     "output_type": "stream",
     "text": [
      "100%|██████████| 1/1 [00:11<00:00, 11.32s/it]\n"
     ]
    }
   ],
   "source": [
    "# predication と sentence の結合（id）\n",
    "\n",
    "import sqlite3\n",
    "from tqdm import tqdm\n",
    "\n",
    "conn = sqlite3.connect('/workspace/ssd4t/yoshikawa/0_DATA/SemMed/02_semmed_pred/semmed_pred.db')\n",
    "cursor = conn.cursor()\n",
    "\n",
    "# インデックス作成\n",
    "cursor.execute('CREATE INDEX IF NOT EXISTS idx_raw_sent_id ON raw(sent_id)')\n",
    "conn.commit()\n",
    "conn.close()\n",
    "\n",
    "def combine_pred_sent(file_number):\n",
    "    # メインのデータベースに接続\n",
    "    conn = sqlite3.connect(f'/workspace/ssd4t/yoshikawa/0_DATA/SemMed/01_semmed_db/{file_number:04}_semmed.db')\n",
    "    cursor = conn.cursor()\n",
    "\n",
    "    # 別のデータベースをATTACHで追加\n",
    "    cursor.execute(\"ATTACH DATABASE '/workspace/ssd4t/yoshikawa/0_DATA/SemMed/02_semmed_pred/semmed_pred.db' AS pred_db\")\n",
    "\n",
    "    # インデックスを作成して高速化\n",
    "    cursor.execute('CREATE INDEX IF NOT EXISTS idx_id_sent_id ON id(sent_id)')\n",
    "\n",
    "    cursor.execute(\"DROP TABLE IF EXISTS pred_sent\")\n",
    "\n",
    "    # 新しいテーブルを作成し、結合結果を挿入\n",
    "    cursor.execute('''\n",
    "        CREATE TABLE IF NOT EXISTS pred_sent AS\n",
    "        SELECT\n",
    "            p.pred_id,\n",
    "            s.sent_id\n",
    "        FROM\n",
    "            pred_db.raw p\n",
    "        INNER JOIN\n",
    "            id s\n",
    "        ON\n",
    "            p.sent_id = s.sent_id\n",
    "    ''')\n",
    "\n",
    "    # コミットしてデータベース接続を閉じる\n",
    "    conn.commit()\n",
    "    conn.close()\n",
    "\n",
    "for i in tqdm(range(144, 145)):\n",
    "    combine_pred_sent(i)"
   ]
  },
  {
   "cell_type": "markdown",
   "metadata": {},
   "source": [
    "## predication テーブルの作成"
   ]
  },
  {
   "cell_type": "code",
   "execution_count": 2,
   "metadata": {},
   "outputs": [
    {
     "name": "stderr",
     "output_type": "stream",
     "text": [
      "100%|██████████| 5227/5227 [01:45<00:00, 49.60it/s] \n"
     ]
    }
   ],
   "source": [
    "# predication と sentence の結合（ predication の中身）\n",
    "\n",
    "import sqlite3\n",
    "from tqdm import tqdm\n",
    "\n",
    "def combine_pred_sent(file_number):\n",
    "    # メインのデータベースに接続\n",
    "    conn = sqlite3.connect(f'/workspace/ssd4t/yoshikawa/0_DATA/SemMed/01_semmed_db/{file_number:04}_semmed.db')\n",
    "    cursor = conn.cursor()\n",
    "\n",
    "    # 別のデータベースをATTACHで追加\n",
    "    cursor.execute(\"ATTACH DATABASE '/workspace/ssd4t/yoshikawa/0_DATA/SemMed/02_semmed_pred/semmed_pred.db' AS pred_db\")\n",
    "\n",
    "    cursor.execute(\"DROP TABLE IF EXISTS predication\")\n",
    "\n",
    "    # 新しいテーブルを作成し、結合結果を挿入\n",
    "    cursor.execute('''\n",
    "        CREATE TABLE IF NOT EXISTS predication AS\n",
    "        SELECT\n",
    "            s.pred_id,\n",
    "            p.predicate,\n",
    "            p.sub_name,\n",
    "            p.sub_ty,\n",
    "            p.obj_name,\n",
    "            p.obj_ty\n",
    "        FROM\n",
    "            pred_db.raw p\n",
    "        INNER JOIN\n",
    "            pred_sent s\n",
    "        ON\n",
    "            p.pred_id = s.pred_id\n",
    "    ''')\n",
    "\n",
    "    # コミットしてデータベース接続を閉じる\n",
    "    conn.commit()\n",
    "    conn.close()\n",
    "\n",
    "for i in tqdm(range(38, 5265)):\n",
    "    combine_pred_sent(i)"
   ]
  },
  {
   "cell_type": "markdown",
   "metadata": {},
   "source": [
    "## pred_aux テーブルの作成"
   ]
  },
  {
   "cell_type": "code",
   "execution_count": 8,
   "metadata": {},
   "outputs": [],
   "source": [
    "def enable_wal_mode():\n",
    "    conn = sqlite3.connect('/workspace/ssd4t/yoshikawa/0_DATA/SemMed/03_semmed_pred_aux/pred_aux.db')\n",
    "    cursor = conn.cursor()\n",
    "    cursor.execute('PRAGMA journal_mode=WAL;')\n",
    "    conn.commit()\n",
    "    conn.close()\n",
    "\n",
    "enable_wal_mode()"
   ]
  },
  {
   "cell_type": "code",
   "execution_count": 16,
   "metadata": {},
   "outputs": [
    {
     "name": "stderr",
     "output_type": "stream",
     "text": [
      "100%|██████████| 2054/2054 [9:11:03<00:00, 16.10s/it]   \n"
     ]
    }
   ],
   "source": [
    "# predication と aux の結合（id）\n",
    "\n",
    "import sqlite3\n",
    "from tqdm import tqdm\n",
    "\n",
    "conn = sqlite3.connect('/workspace/ssd4t/yoshikawa/0_DATA/SemMed/03_semmed_pred_aux/pred_aux.db')\n",
    "cursor = conn.cursor()\n",
    "\n",
    "# インデックス作成\n",
    "cursor.execute('CREATE INDEX IF NOT EXISTS idx_raw_pred_id ON raw(pred_id)')\n",
    "conn.commit()\n",
    "conn.close()\n",
    "\n",
    "def combine_pred_sent(file_number):\n",
    "    # メインのデータベースに接続\n",
    "    conn = sqlite3.connect(f'/workspace/ssd4t/yoshikawa/0_DATA/SemMed/01_semmed_db/{file_number:04}_semmed.db')\n",
    "    cursor = conn.cursor()\n",
    "\n",
    "    # 別のデータベースをATTACHで追加\n",
    "    cursor.execute(\"ATTACH DATABASE '/workspace/ssd4t/yoshikawa/0_DATA/SemMed/03_semmed_pred_aux/pred_aux.db' AS aux_db\")\n",
    "\n",
    "    # インデックスを作成して高速化\n",
    "    cursor.execute('CREATE INDEX IF NOT EXISTS idx_pred_sent_pred_id ON pred_sent(pred_id)')\n",
    "\n",
    "    cursor.execute(\"DROP TABLE IF EXISTS pred_aux\")\n",
    "\n",
    "    # 新しいテーブルを作成し、結合結果を挿入\n",
    "    cursor.execute('''\n",
    "        CREATE TABLE IF NOT EXISTS pred_aux AS\n",
    "        SELECT\n",
    "            p.pred_aux_id,\n",
    "            s.pred_id\n",
    "        FROM\n",
    "            aux_db.raw p\n",
    "        INNER JOIN\n",
    "            pred_sent s\n",
    "        ON\n",
    "            p.pred_id = s.pred_id\n",
    "    ''')\n",
    "\n",
    "    # コミットしてデータベース接続を閉じる\n",
    "    conn.commit()\n",
    "    conn.close()\n",
    "\n",
    "for i in tqdm(range(3211, 5265)):\n",
    "    combine_pred_sent(i)"
   ]
  },
  {
   "cell_type": "markdown",
   "metadata": {},
   "source": [
    "# aux テーブルの作成"
   ]
  },
  {
   "cell_type": "code",
   "execution_count": 17,
   "metadata": {},
   "outputs": [
    {
     "name": "stderr",
     "output_type": "stream",
     "text": [
      "100%|██████████| 2054/2054 [00:34<00:00, 58.94it/s]\n"
     ]
    }
   ],
   "source": [
    "# predication と aux の結合（ predication の中身）\n",
    "\n",
    "import sqlite3\n",
    "from tqdm import tqdm\n",
    "\n",
    "def combine_pred_sent(file_number):\n",
    "    # メインのデータベースに接続\n",
    "    conn = sqlite3.connect(f'/workspace/ssd4t/yoshikawa/0_DATA/SemMed/01_semmed_db/{file_number:04}_semmed.db')\n",
    "    cursor = conn.cursor()\n",
    "\n",
    "    # 別のデータベースをATTACHで追加\n",
    "    cursor.execute(\"ATTACH DATABASE '/workspace/ssd4t/yoshikawa/0_DATA/SemMed/03_semmed_pred_aux/pred_aux.db' AS aux_db\")\n",
    "\n",
    "    cursor.execute(\"DROP TABLE IF EXISTS aux\")\n",
    "\n",
    "    # 新しいテーブルを作成し、結合結果を挿入\n",
    "    cursor.execute('''\n",
    "        CREATE TABLE IF NOT EXISTS aux AS\n",
    "        SELECT\n",
    "            s.pred_aux_id,\n",
    "            p.sub_text,\n",
    "            p.sub_dist,\n",
    "            p.sub_maxdist,\n",
    "            p.sub_start,\n",
    "            p.sub_end,\n",
    "            p.sub_score,\n",
    "            p.ind_ty,\n",
    "            p.pred_start,\n",
    "            p.pred_end,\n",
    "            p.obj_text,\n",
    "            p.obj_dist,\n",
    "            p.obj_maxdist,\n",
    "            p.obj_start,\n",
    "            p.obj_end,\n",
    "            p.obj_score\n",
    "        FROM\n",
    "            aux_db.raw p\n",
    "        INNER JOIN\n",
    "            pred_aux s\n",
    "        ON\n",
    "            p.pred_id = s.pred_id\n",
    "    ''')\n",
    "\n",
    "    # コミットしてデータベース接続を閉じる\n",
    "    conn.commit()\n",
    "    conn.close()\n",
    "\n",
    "for i in tqdm(range(3211, 5265)):\n",
    "    combine_pred_sent(i)"
   ]
  },
  {
   "cell_type": "code",
   "execution_count": null,
   "metadata": {},
   "outputs": [],
   "source": []
  }
 ],
 "metadata": {
  "kernelspec": {
   "display_name": "test_venv",
   "language": "python",
   "name": "test_venv"
  },
  "language_info": {
   "codemirror_mode": {
    "name": "ipython",
    "version": 3
   },
   "file_extension": ".py",
   "mimetype": "text/x-python",
   "name": "python",
   "nbconvert_exporter": "python",
   "pygments_lexer": "ipython3",
   "version": "3.10.9"
  }
 },
 "nbformat": 4,
 "nbformat_minor": 2
}
