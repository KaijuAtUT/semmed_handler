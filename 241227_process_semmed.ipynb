{
 "cells": [
  {
   "cell_type": "code",
   "execution_count": 2,
   "metadata": {},
   "outputs": [],
   "source": [
    "# 解凍\n",
    "import shutil\n",
    "import zipfile\n",
    "\n",
    "shutil.unpack_archive('/workspace/ssd4t/yoshikawa/241030_cell_knowledge_ext/for_azuma.zip', '/workspace/ssd4t/yoshikawa/241030_cell_knowledge_ext/copy')"
   ]
  },
  {
   "cell_type": "code",
   "execution_count": 6,
   "metadata": {},
   "outputs": [],
   "source": [
    "# predication を 50000 行に区切る\n",
    "\n",
    "input_file = \"/workspace/ssd4t/yoshikawa/0_DATA/SemMed/00_data_from_semmed/semmedVER43_2024_R_PREDICATION.csv\"\n",
    "output_file = \"/workspace/ssd4t/yoshikawa/0_DATA/SemMed/02_semmed_pred/csv/%d_semmed_pred.csv\"\n",
    "\n",
    "line_max = 50000\n",
    "\n",
    "line_index = 1\n",
    "file_seqno = 1\n",
    "\n",
    "with open(input_file, \"r\", encoding=\"utf-8\", errors=\"ignore\") as in_file:\n",
    "    out_file = open(output_file % file_seqno, \"w\", encoding=\"utf-8\")\n",
    "\n",
    "    for line in in_file:\n",
    "        out_file.write(line)\n",
    "        line_index += 1\n",
    "\n",
    "        if line_index > line_max:\n",
    "            out_file.close()\n",
    "            file_seqno += 1\n",
    "            line_index = 1\n",
    "            out_file = open(output_file % file_seqno, \"w\", encoding=\"utf-8\")\n",
    "\n",
    "    out_file.close()"
   ]
  },
  {
   "cell_type": "code",
   "execution_count": 32,
   "metadata": {},
   "outputs": [
    {
     "name": "stdout",
     "output_type": "stream",
     "text": [
      "   1381174  3685099  ti  1    20  \\\n",
      "0  1381175  4859544  ti  3    89   \n",
      "1  1381176  3865199  ti  1    20   \n",
      "2  1381177  3954747  ab  8  1268   \n",
      "3  1381178  3474940  ab  2   412   \n",
      "4  1381179  5130218  ab  2   234   \n",
      "\n",
      "  Random selection of points distributed on curved surfaces.    79  \\\n",
      "0  Production of fluorogibberellic acid and fluor...           174   \n",
      "1  Stereochemical course of the reaction catalyze...           156   \n",
      "2  The carcinoma itself showed rapid rates of gly...          1379   \n",
      "3  These cell suspensions were implanted unilater...           578   \n",
      "4  Out of 130 patients presenting 78 were selecte...           318   \n",
      "\n",
      "   Unnamed: 7  Unnamed: 8  \n",
      "0         NaN         NaN  \n",
      "1         NaN         NaN  \n",
      "2         NaN         NaN  \n",
      "3         NaN         NaN  \n",
      "4         NaN         NaN  \n"
     ]
    }
   ],
   "source": [
    "import pandas as pd\n",
    "\n",
    "df = pd.read_csv(\"/workspace/ssd4t/yoshikawa/0_DATA/SemMed/01_semmed_sent/csv/25_semmed_sent.csv\", on_bad_lines=\"skip\").head()\n",
    "print(df)"
   ]
  },
  {
   "cell_type": "code",
   "execution_count": 1,
   "metadata": {},
   "outputs": [
    {
     "name": "stdout",
     "output_type": "stream",
     "text": [
      "   10592604  16  16530475  PROCESS_OF  C0003725               Arboviruses  \\\n",
      "0  10592697  17  16530475         ISA  C0039258              Tahyna virus   \n",
      "1  10592728  17  16530475         ISA  C0318627               Eyach virus   \n",
      "2  10592759  17  16530475         ISA  C0446169  California Group Viruses   \n",
      "3  10592832  18  16530475  PROCESS_OF  C0012634                   Disease   \n",
      "4  10592873  18  16530475      CAUSES  C0042776                     Virus   \n",
      "\n",
      "   virs  1  C0999630            Lepus capensis  mamm  1.1  \\N \\N.1 \\N.2  \n",
      "0  virs  1  C0446169  California Group Viruses  virs    1  \\N   \\N   \\N  \n",
      "1  virs  1  C0206590                Coltivirus  virs    1  \\N   \\N   \\N  \n",
      "2  virs  1  C0003725               Arboviruses  virs    1  \\N   \\N   \\N  \n",
      "3  dsyn  0  C0020114                     Human  humn    0  \\N   \\N   \\N  \n",
      "4  virs  1  C0012634                   Disease  dsyn    0  \\N   \\N   \\N  \n"
     ]
    }
   ],
   "source": [
    "import pandas as pd\n",
    "\n",
    "df = pd.read_csv(\"/workspace/ssd4t/yoshikawa/0_DATA/SemMed/02_semmed_pred/csv/1_semmed_pred.csv\").head()\n",
    "print(df)"
   ]
  },
  {
   "cell_type": "code",
   "execution_count": null,
   "metadata": {},
   "outputs": [],
   "source": [
    "# tsv を db に変換\n",
    "import csv, sqlite3\n",
    "\n",
    "def tsv_to_db(file_number):\n",
    "    conn = sqlite3.connect(f\"/workspace/ssd4t/yoshikawa/0_DATA/SemMed/02_semmed_pred/db/{file_number}_semmed_pred.db\")\n",
    "    curs = conn.cursor()\n",
    "    curs.execute(f\"CREATE TABLE IF NOT EXISTS raw (pred_id, sent_id, pmid, predicate, sub_name, sub_ty, obj_name, obj_ty);\")\n",
    "    \n",
    "    reader = csv.reader(open(f\"/workspace/ssd4t/yoshikawa/0_DATA/SemMed/02_semmed_pred/csv/{file_number}_semmed_pred.csv\", 'r'))\n",
    "    next(reader)\n",
    "\n",
    "    for row in reader:\n",
    "        to_db = [row[0], row[1], row[2], row[3], row[5], row[6], row[9], row[10]]\n",
    "        curs.execute(f\"INSERT INTO raw (pred_id, sent_id, pmid, predicate, sub_name, sub_ty, obj_name, obj_ty) VALUES (?, ?, ?, ?, ?, ?, ?, ?);\", to_db)\n",
    "\n",
    "    conn.commit()\n",
    "    conn.close()\n",
    "\n",
    "for i in range(1, 2611):\n",
    "    tsv_to_db(i)"
   ]
  },
  {
   "cell_type": "code",
   "execution_count": 12,
   "metadata": {},
   "outputs": [],
   "source": [
    "# 複数の csv を 1 つの db に変換\n",
    "\n",
    "import csv, sqlite3\n",
    "\n",
    "def tsv_to_db(file_number):\n",
    "    conn = sqlite3.connect(\"/workspace/ssd4t/yoshikawa/0_DATA/SemMed/01_semmed_sent/db/semmed_sent.db\")\n",
    "    curs = conn.cursor()\n",
    "    curs.execute(f\"CREATE TABLE IF NOT EXISTS raw (sent_id, pmid, type, sentence);\")\n",
    "    \n",
    "    reader = csv.reader(open(f\"/workspace/ssd4t/yoshikawa/0_DATA/SemMed/01_semmed_sent/csv/{file_number}_semmed_sent.csv\", 'r'))\n",
    "    next(reader)\n",
    "\n",
    "    for row in reader:\n",
    "        to_db = [row[0], row[1], row[2], row[5]]\n",
    "        curs.execute(f\"INSERT INTO raw (sent_id, pmid, type, sentence) VALUES (?, ?, ?, ?);\", to_db)\n",
    "\n",
    "    conn.commit()\n",
    "    conn.close()\n",
    "\n",
    "for i in range(2611, 5265):\n",
    "    tsv_to_db(i)"
   ]
  },
  {
   "cell_type": "code",
   "execution_count": null,
   "metadata": {},
   "outputs": [],
   "source": [
    "import sqlite3\n",
    "\n",
    "# 高速化のため、index を作成\n",
    "def add_index_to_sentence_db():\n",
    "    conn = sqlite3.connect('/workspace/ssd4t/yoshikawa/0_DATA/SemMed/01_semmed_sent/db/semmed_sent.db')\n",
    "    cursor = conn.cursor()\n",
    "    \n",
    "    cursor.execute('CREATE INDEX IF NOT EXISTS idx_sentence_sentid_pmid ON raw (sent_id, pmid)')\n",
    "\n",
    "    conn.commit()\n",
    "    conn.close()\n",
    "\n",
    "add_index_to_sentence_db()"
   ]
  },
  {
   "cell_type": "code",
   "execution_count": null,
   "metadata": {},
   "outputs": [],
   "source": [
    "def add_index_to_raw(file_number):\n",
    "    conn = sqlite3.connect(f'/workspace/ssd4t/yoshikawa/0_DATA/SemMed/02_semmed_pred/db/{file_number}_semmed_pred.db')\n",
    "    cursor = conn.cursor()\n",
    "\n",
    "    cursor.execute('CREATE INDEX IF NOT EXISTS idx_raw_sentid_pmid ON raw (sent_id, pmid)')\n",
    "\n",
    "    conn.commit()\n",
    "    conn.close()\n",
    "\n",
    "for i in range(1, 2611):\n",
    "    add_index_to_raw(i)"
   ]
  },
  {
   "cell_type": "code",
   "execution_count": 5,
   "metadata": {},
   "outputs": [],
   "source": [
    "# predication と sentence の結合\n",
    "\n",
    "import sqlite3\n",
    "\n",
    "def combine_pred_sent(file_number):\n",
    "    # メインのデータベースに接続\n",
    "    conn = sqlite3.connect(f'/workspace/ssd4t/yoshikawa/0_DATA/SemMed/02_semmed_pred/db/{file_number}_semmed_pred.db')\n",
    "    cursor = conn.cursor()\n",
    "\n",
    "    # 別のデータベースをATTACHで追加\n",
    "    cursor.execute(\"ATTACH DATABASE '/workspace/ssd4t/yoshikawa/0_DATA/SemMed/01_semmed_sent/db/semmed_sent.db' AS sentence_db\")\n",
    "\n",
    "    # 新しいテーブルを作成し、結合結果を挿入\n",
    "    cursor.execute('''\n",
    "        CREATE TABLE IF NOT EXISTS pred_sent AS\n",
    "        SELECT \n",
    "            p.pred_id,\n",
    "            p.sent_id,\n",
    "            p.pmid,\n",
    "            p.predicate,\n",
    "            p.sub_name,\n",
    "            p.obj_name,\n",
    "            s.sentence\n",
    "        FROM \n",
    "            raw p\n",
    "        LEFT JOIN \n",
    "            sentence_db.raw s\n",
    "        ON \n",
    "            p.sent_id = s.sent_id AND p.pmid = s.pmid\n",
    "    ''')\n",
    "\n",
    "    # コミットしてデータベース接続を閉じる\n",
    "    conn.commit()\n",
    "    conn.close()\n",
    "\n",
    "for i in range(1, 2611):\n",
    "    combine_pred_sent(i)"
   ]
  },
  {
   "cell_type": "code",
   "execution_count": null,
   "metadata": {},
   "outputs": [],
   "source": []
  }
 ],
 "metadata": {
  "kernelspec": {
   "display_name": "Python 3",
   "language": "python",
   "name": "python3"
  },
  "language_info": {
   "codemirror_mode": {
    "name": "ipython",
    "version": 3
   },
   "file_extension": ".py",
   "mimetype": "text/x-python",
   "name": "python",
   "nbconvert_exporter": "python",
   "pygments_lexer": "ipython3",
   "version": "3.10.9"
  }
 },
 "nbformat": 4,
 "nbformat_minor": 2
}
