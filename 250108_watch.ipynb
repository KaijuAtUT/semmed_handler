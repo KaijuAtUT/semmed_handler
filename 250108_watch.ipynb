{
 "cells": [
  {
   "cell_type": "markdown",
   "metadata": {},
   "source": [
    "# SemMed predication aux の中身を確認する"
   ]
  },
  {
   "cell_type": "code",
   "execution_count": 3,
   "metadata": {},
   "outputs": [],
   "source": [
    "# 列名を見る\n",
    "\n",
    "import sqlite3\n",
    "\n",
    "conn = sqlite3.connect('/workspace/ssd4t/yoshikawa/0_DATA/SemMed/03_semmed_pred_aux/semmed_pred_aux.db')\n",
    "cursor = conn.cursor()\n",
    "\n",
    "# cursor.execute(\"SELECT * FROM semmed_aux LIMIT 10;\")\n",
    "cursor.execute(\"PRAGMA table_info('semmed_aux');\")\n",
    "\n",
    "rows = cursor.fetchall()\n",
    "\n",
    "for row in rows:\n",
    "    print(row)\n",
    "\n",
    "conn.close()"
   ]
  },
  {
   "cell_type": "code",
   "execution_count": 12,
   "metadata": {},
   "outputs": [
    {
     "name": "stdout",
     "output_type": "stream",
     "text": [
      "('10592679', '10592697', 'Tahyna virus', '0', '0', '232', '244', '1000', 'SPEC', '232', '279', 'California encephalitis serogroup', '0', '0', '246', '279', '901', '2019-03-26 15:15:35')\n",
      "('10592713', '10592728', 'Eyach virus', '0', '0', '196', '207', '1000', 'SPEC', '196', '225', 'genus Coltivirus', '0', '0', '209', '225', '1000', '2019-03-26 15:15:35')\n",
      "('10592749', '10592759', 'California encephalitis serogroup', '0', '0', '246', '279', '901', 'SPEC', '246', '326', 'arthropod-borne viruses', '0', '0', '303', '326', '1000', '2019-03-26 15:15:35')\n",
      "('10592816', '10592832', 'disease', '0', '0', '402', '409', '888', 'MOD/HEAD', '396', '409', 'human', '0', '0', '396', '401', '888', '2019-03-26 15:15:35')\n",
      "('10592858', '10592873', 'viruses', '1', '1', '360', '367', '1000', 'VERB', '390', '395', 'disease', '1', '1', '402', '409', '888', '2019-03-26 15:15:35')\n",
      "('10593041', '10593057', 'brown hare', '1', '2', '1273', '1283', '901', 'VERB', '1253', '1258', 'antibodies', '2', '3', '1212', '1222', '1000', '2019-03-26 15:15:35')\n",
      "('10593192', '10593208', 'binding protein', '0', '0', '100', '115', '861', 'MOD/HEAD', '94', '115', 'FHL-1', '0', '0', '94', '99', '861', '2019-03-26 15:15:35')\n",
      "('10593235', '10593243', 'complement factor H', '1', '3', '70', '89', '916', 'PREP', '116', '118', 'Borrelia burgdorferi', '1', '1', '119', '139', '1000', '2019-03-26 15:15:35')\n",
      "('10593268', '10593287', 'binding protein', '1', '3', '100', '115', '861', 'PREP', '116', '118', 'Borrelia burgdorferi', '1', '1', '119', '139', '1000', '2019-03-26 15:15:35')\n",
      "('10593611', '10593621', 'LuxS', '0', '0', '59', '63', '734', 'MOD/HEAD', '38', '63', 'Borrelia burgdorferi', '0', '0', '38', '58', '734', '2019-03-26 15:15:35')\n"
     ]
    }
   ],
   "source": [
    "# 最初の 10 行だけ見る\n",
    "\n",
    "import sqlite3\n",
    "\n",
    "conn = sqlite3.connect('/workspace/ssd4t/yoshikawa/0_DATA/SemMed/03_semmed_pred_aux/semmed_pred_aux.db')\n",
    "cursor = conn.cursor()\n",
    "\n",
    "cursor.execute(\"SELECT * FROM semmed_aux LIMIT 10;\")\n",
    "\n",
    "rows = cursor.fetchall()\n",
    "\n",
    "for row in rows:\n",
    "    print(row)\n",
    "\n",
    "conn.close()"
   ]
  },
  {
   "cell_type": "code",
   "execution_count": null,
   "metadata": {},
   "outputs": [],
   "source": [
    "# aux の型が指定されていなかったので指定\n",
    "\n",
    "import sqlite3\n",
    "\n",
    "db_path = '/workspace/ssd4t/yoshikawa/0_DATA/SemMed/03_semmed_pred_aux/semmed_pred_aux.db'\n",
    "conn = sqlite3.connect(db_path)\n",
    "cursor = conn.cursor()\n",
    "\n",
    "# 新しいテーブルを作成\n",
    "cursor.execute(\"\"\"\n",
    "CREATE TABLE raw (\n",
    "    pred_aux_id INT,\n",
    "    pred_id INT,\n",
    "    sub_text TEXT,\n",
    "    sub_dist INT,\n",
    "    sub_maxdist INT,\n",
    "    sub_start INT,\n",
    "    sub_end INT,\n",
    "    sub_score INT,\n",
    "    ind_ty TEXT,\n",
    "    pred_start INT,\n",
    "    pred_end INT,\n",
    "    obj_text TEXT,\n",
    "    obj_dist INT,\n",
    "    obj_maxdist INT,\n",
    "    obj_start INT,\n",
    "    obj_end INT,\n",
    "    obj_score INT,\n",
    "    curr_timestamp TEXT\n",
    ")\n",
    "\"\"\")\n",
    "\n",
    "cursor.execute(\"INSERT INTO raw SELECT * FROM semmed_aux;\")\n",
    "\n",
    "cursor.execute(\"DROP TABLE semmed_aux\")\n",
    "\n",
    "conn.commit()\n",
    "conn.close()"
   ]
  },
  {
   "cell_type": "markdown",
   "metadata": {},
   "source": [
    "# ファイルサイズの確認"
   ]
  },
  {
   "cell_type": "code",
   "execution_count": 2,
   "metadata": {},
   "outputs": [
    {
     "name": "stdout",
     "output_type": "stream",
     "text": [
      "Total lines: 130480181\n"
     ]
    }
   ],
   "source": [
    "input_file = \"/workspace/ssd4t/yoshikawa/0_DATA/SemMed/00_data_from_semmed/semmedVER43_2024_R_PREDICATION_AUX.csv\"\n",
    "\n",
    "line_count = 0\n",
    "chunk_size = 1024 * 1024  # 1MB のチャンクサイズで読み込む\n",
    "\n",
    "with open(input_file, \"r\", encoding=\"utf-8\", errors=\"ignore\") as file:\n",
    "    while chunk := file.read(chunk_size):\n",
    "        line_count += chunk.count(\"\\n\")\n",
    "\n",
    "print(f\"Total lines: {line_count}\")"
   ]
  },
  {
   "cell_type": "code",
   "execution_count": 3,
   "metadata": {},
   "outputs": [
    {
     "name": "stdout",
     "output_type": "stream",
     "text": [
      "Total lines: 130480195\n"
     ]
    }
   ],
   "source": [
    "input_file = \"/workspace/ssd4t/yoshikawa/0_DATA/SemMed/00_data_from_semmed/semmedVER43_2024_R_PREDICATION.csv\"\n",
    "\n",
    "line_count = 0\n",
    "chunk_size = 1024 * 1024\n",
    "\n",
    "with open(input_file, \"r\", encoding=\"utf-8\", errors=\"ignore\") as file:\n",
    "    while chunk := file.read(chunk_size):\n",
    "        line_count += chunk.count(\"\\n\")\n",
    "\n",
    "print(f\"Total lines: {line_count}\")"
   ]
  },
  {
   "cell_type": "code",
   "execution_count": 7,
   "metadata": {},
   "outputs": [
    {
     "name": "stdout",
     "output_type": "stream",
     "text": [
      "11.997183999999999 MB\n"
     ]
    }
   ],
   "source": [
    "# 加工後のファイルサイズを見る\n",
    "\n",
    "import os\n",
    "\n",
    "file_size = os.path.getsize(\"/workspace/ssd4t/yoshikawa/0_DATA/SemMed/01_semmed_db/0001_semmed.db\")\n",
    "kilo_bite_size = file_size / 1000\n",
    "mega_bite_size = kilo_bite_size / 1000\n",
    "\n",
    "print(f\"{mega_bite_size} MB\")"
   ]
  },
  {
   "cell_type": "code",
   "execution_count": null,
   "metadata": {},
   "outputs": [],
   "source": []
  }
 ],
 "metadata": {
  "kernelspec": {
   "display_name": "test_venv",
   "language": "python",
   "name": "test_venv"
  },
  "language_info": {
   "codemirror_mode": {
    "name": "ipython",
    "version": 3
   },
   "file_extension": ".py",
   "mimetype": "text/x-python",
   "name": "python",
   "nbconvert_exporter": "python",
   "pygments_lexer": "ipython3",
   "version": "3.10.9"
  }
 },
 "nbformat": 4,
 "nbformat_minor": 2
}
