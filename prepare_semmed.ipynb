{
 "cells": [
  {
   "cell_type": "markdown",
   "metadata": {},
   "source": [
    "# ファイルの準備\n",
    "\n",
    "* ファイルの解凍\n",
    "* 一定の行数に分割\n",
    "* tsv や csv の DB 化"
   ]
  },
  {
   "cell_type": "code",
   "execution_count": null,
   "metadata": {},
   "outputs": [],
   "source": [
    "import os\n",
    "import shutil\n",
    "import zipfile\n",
    "import gzip\n",
    "import pandas as pd\n",
    "from tqdm import tqdm\n",
    "import csv, sqlite3"
   ]
  },
  {
   "cell_type": "markdown",
   "metadata": {},
   "source": [
    "## 解凍"
   ]
  },
  {
   "cell_type": "code",
   "execution_count": null,
   "metadata": {},
   "outputs": [],
   "source": [
    "# zip ファイルを解凍\n",
    "\n",
    "def unpack_zip(zip_path, output_dir):\n",
    "    shutil.unpack_archive(zip_path, output_dir)\n",
    "    print(f\"Unpacked {zip_path} to {output_dir}\")"
   ]
  },
  {
   "cell_type": "code",
   "execution_count": null,
   "metadata": {},
   "outputs": [],
   "source": [
    "# .gz 形式のファイルを解凍\n",
    "\n",
    "def unpack_zip(gz_path, output_path):\n",
    "    with gzip.open(gz_path, mode=\"rb\") as gzip_file:\n",
    "        with open(output_path, mode=\"wb\") as decompressed_file:\n",
    "            shutil.copyfileobj(gzip_file, decompressed_file)"
   ]
  },
  {
   "cell_type": "markdown",
   "metadata": {},
   "source": [
    "## 分割"
   ]
  },
  {
   "cell_type": "code",
   "execution_count": null,
   "metadata": {},
   "outputs": [],
   "source": [
    "# 50000 行ごとに区切る\n",
    "# もとのファイルサイズが大きく、エンコーディングが変なところがあるので、 pandas などではなく with で対応\n",
    "\n",
    "def split_csv(input_file, output_dir, chunk_size=50000):\n",
    "    line_index = 1\n",
    "    file_seqno = 1\n",
    "\n",
    "    output_file = os.path.join(output_dir, f\"%d_semmed_pred.csv\")\n",
    "\n",
    "    with open(input_file, \"r\", encoding=\"utf-8\", errors=\"ignore\") as in_file:\n",
    "        out_file = open(output_file % file_seqno, \"w\", encoding=\"utf-8\")\n",
    "\n",
    "        for line in in_file:\n",
    "            out_file.write(line)\n",
    "            line_index += 1\n",
    "\n",
    "            if line_index > chunk_size:\n",
    "                out_file.close()\n",
    "                file_seqno += 1\n",
    "                line_index = 1\n",
    "                out_file = open(output_file % file_seqno, \"w\", encoding=\"utf-8\")\n",
    "\n",
    "        out_file.close()"
   ]
  },
  {
   "cell_type": "markdown",
   "metadata": {},
   "source": [
    "## tsv、csv を DB に変更"
   ]
  },
  {
   "cell_type": "code",
   "execution_count": null,
   "metadata": {},
   "outputs": [],
   "source": [
    "# 複数の csv を 1 つの db に変換\n",
    "\n",
    "def tsv_to_db(input_path, db_path, file_number):\n",
    "    conn = sqlite3.connect(db_path)\n",
    "    curs = conn.cursor()\n",
    "    curs.execute(f\"\"\"CREATE TABLE IF NOT EXISTS raw (\n",
    "                    sent_id INT,\n",
    "                    pmid INT,\n",
    "                    type TEXT,\n",
    "                    start INT,\n",
    "                    sentence TEXT\n",
    "                );\"\"\")\n",
    "\n",
    "    reader = csv.reader(open(f\"{input_path}/{file_number}_semmed_sent.csv\", 'r'))\n",
    "\n",
    "    for row in reader:\n",
    "        to_db = [row[0], row[1], row[2], row[4], row[5]]\n",
    "        curs.execute(f\"INSERT INTO raw (sent_id, pmid, type, start, sentence) VALUES (?, ?, ?, ?, ?);\", to_db)\n",
    "\n",
    "    conn.commit()\n",
    "    conn.close()"
   ]
  },
  {
   "cell_type": "code",
   "execution_count": null,
   "metadata": {},
   "outputs": [],
   "source": [
    "# tsv を db に変換\n",
    "\n",
    "def tsv_to_db(input_path, db_path):\n",
    "    conn = sqlite3.connect(db_path)\n",
    "    curs = conn.cursor()\n",
    "    curs.execute(f\"\"\"CREATE TABLE IF NOT EXISTS raw (\n",
    "                    pred_id TEXT,\n",
    "                    sent_id TEXT,\n",
    "                    pmid TEXT,\n",
    "                    predicate TEXT,\n",
    "                    sub_name TEXT,\n",
    "                    sub_ty TEXT,\n",
    "                    obj_name TEXT,\n",
    "                    obj_ty TEXT\n",
    "                );\"\"\")\n",
    "\n",
    "    reader = csv.reader(open(input_path, 'r'))\n",
    "\n",
    "    for row in reader:\n",
    "        to_db = [row[0], row[1], row[2], row[3], row[5], row[6], row[9], row[10]]\n",
    "        curs.execute(f\"INSERT INTO raw (pred_id, sent_id, pmid, predicate, sub_name, sub_ty, obj_name, obj_ty) VALUES (?, ?, ?, ?, ?, ?, ?, ?);\", to_db)\n",
    "\n",
    "    conn.commit()\n",
    "    conn.close()"
   ]
  },
  {
   "cell_type": "markdown",
   "metadata": {},
   "source": [
    "## index の作成"
   ]
  },
  {
   "cell_type": "code",
   "execution_count": 6,
   "metadata": {},
   "outputs": [],
   "source": [
    "# 高速化のため index 作成\n",
    "\n",
    "def add_index_to_raw(db_dir, file_number):\n",
    "    conn = sqlite3.connect(f'{db_dir}/{file_number}_semmed_pred.db')\n",
    "    cursor = conn.cursor()\n",
    "\n",
    "    cursor.execute('CREATE INDEX IF NOT EXISTS idx_raw_sentid_pmid ON raw (sent_id, pmid)')\n",
    "\n",
    "    conn.commit()\n",
    "    conn.close()"
   ]
  },
  {
   "cell_type": "code",
   "execution_count": null,
   "metadata": {},
   "outputs": [],
   "source": []
  }
 ],
 "metadata": {
  "kernelspec": {
   "display_name": "3.11.8",
   "language": "python",
   "name": "python3"
  },
  "language_info": {
   "codemirror_mode": {
    "name": "ipython",
    "version": 3
   },
   "file_extension": ".py",
   "mimetype": "text/x-python",
   "name": "python",
   "nbconvert_exporter": "python",
   "pygments_lexer": "ipython3",
   "version": "3.11.8"
  }
 },
 "nbformat": 4,
 "nbformat_minor": 2
}
